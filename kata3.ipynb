{
 "cells": [
  {
   "cell_type": "code",
   "execution_count": 1,
   "metadata": {},
   "outputs": [
    {
     "name": "stdout",
     "output_type": "stream",
     "text": [
      "Advertencia. \n",
      "El asteroide se acerca a la Tierra demasiado rápido.\n"
     ]
    }
   ],
   "source": [
    "velocidad_asteroide = 49\n",
    "if(velocidad_asteroide > 25):\n",
    "    print(\"Advertencia. \\nEl asteroide se acerca a la Tierra demasiado rápido.\")\n",
    "else:\n",
    "    print(\"El asteroide no representa peligro.\")"
   ]
  },
  {
   "cell_type": "code",
   "execution_count": 2,
   "metadata": {},
   "outputs": [
    {
     "name": "stdout",
     "output_type": "stream",
     "text": [
      "El asteroide no produce un rayo de luz.\n"
     ]
    }
   ],
   "source": [
    "velocidad_asteroide = 19\n",
    "if(velocidad_asteroide >= 20):\n",
    "    print(\"El asteroide produce un rayo de luz.\")\n",
    "else:\n",
    "    print(\"El asteroide no produce un rayo de luz.\")"
   ]
  },
  {
   "cell_type": "code",
   "execution_count": 6,
   "metadata": {},
   "outputs": [
    {
     "name": "stdout",
     "output_type": "stream",
     "text": [
      "El asteroide causará muchos daños.\n",
      "El asteroide produce un rayo de luz.\n"
     ]
    }
   ],
   "source": [
    "velocidad_asteroide= 40\n",
    "asteroide = 25\n",
    "if(asteroide > 25 and velocidad_asteroide > 25):\n",
    "    print(\"El asteroide causará muchos daños.\")\n",
    "else:\n",
    "    print(\"El asteroide no representa peligro.\")\n",
    "if(velocidad_asteroide >= 20):\n",
    "    print(\"El asteroide produce un rayo de luz.\")\n",
    "else:\n",
    "    print(\"El asteroide no produce un rayo de luz.\")"
   ]
  }
 ],
 "metadata": {
  "interpreter": {
   "hash": "b3ba2566441a7c06988d0923437866b63cedc61552a5af99d1f4fb67d367b25f"
  },
  "kernelspec": {
   "display_name": "Python 3.9.7 ('base')",
   "language": "python",
   "name": "python3"
  },
  "language_info": {
   "codemirror_mode": {
    "name": "ipython",
    "version": 3
   },
   "file_extension": ".py",
   "mimetype": "text/x-python",
   "name": "python",
   "nbconvert_exporter": "python",
   "pygments_lexer": "ipython3",
   "version": "3.9.7"
  },
  "orig_nbformat": 4
 },
 "nbformat": 4,
 "nbformat_minor": 2
}
